{
 "cells": [
  {
   "cell_type": "code",
   "execution_count": 71,
   "metadata": {},
   "outputs": [],
   "source": [
    "import pandas as pd\n",
    "from py_files import data_manager\n",
    "import numpy as np\n",
    "from statsmodels.tsa.holtwinters import ExponentialSmoothing\n",
    "from tqdm.auto import tqdm\n",
    "from sklearn.model_selection import train_test_split\n",
    "from pgmpy.models import BayesianNetwork, BayesianModel\n",
    "from pgmpy.estimators import MaximumLikelihoodEstimator, ExpectationMaximization\n",
    "from pgmpy.inference import VariableElimination\n",
    "from matplotlib import pyplot as plt"
   ]
  },
  {
   "cell_type": "code",
   "execution_count": 150,
   "metadata": {},
   "outputs": [],
   "source": [
    "# load in feather file\n",
    "final_df = pd.read_feather('data/play_by_play_full_state_space.feather')\n",
    "final_df['WIN'] = final_df['home_score'] > final_df['away_score']\n",
    "final_df = final_df[final_df['game_date'] >= '2018-10-01']\n",
    "final_df = final_df[final_df['game_date'] < '2019-10-01']"
   ]
  },
  {
   "cell_type": "code",
   "execution_count": 156,
   "metadata": {},
   "outputs": [],
   "source": [
    "final_df = pd.read_hdf('data/processed_data.h5', key='df')\n",
    "final_df = final_df.rename(columns={'GAME_ID': 'game_id', 'HOME_GOAL':'STATE_GOAL_HOME', 'AWAY_GOAL':'STATE_GOAL_AWAY','HOME_SHOT':'STATE_SHOT_HOME', 'AWAY_SHOT':'STATE_SHOT_AWAY',\n",
    "                                    'HOME_BLOCKED_SHOT':'STATE_BLOCKED_SHOT_HOME', 'AWAY_BLOCKED_SHOT':'STATE_BLOCKED_SHOT_AWAY', 'HOME_MISSED_SHOT':'STATE_MISSED_SHOT_HOME','TIME_REMAINING':'game_seconds_remaining'})\n"
   ]
  },
  {
   "cell_type": "code",
   "execution_count": 157,
   "metadata": {},
   "outputs": [],
   "source": [
    "# take the last two season\n",
    "df = final_df.copy()\n",
    "\n",
    "label_column = 'WIN'\n",
    "\n",
    "game_groups = df.groupby('game_id')\n",
    "\n",
    "game_ids = df.game_id.unique()\n",
    "\n",
    "train_ids, test_ids = train_test_split(game_ids, test_size=0.2, random_state=42)\n",
    "\n",
    "train = df[df.game_id.isin(train_ids)]\n",
    "test = df[df.game_id.isin(test_ids)]\n",
    "\n",
    "keepers = [\n",
    "    \"game_id\",\n",
    "    \"STATE_GOAL_HOME\",\n",
    "    \"STATE_GOAL_AWAY\",\n",
    "    \"STATE_SHOT_HOME\",\n",
    "    \"STATE_SHOT_AWAY\",\n",
    "    \"STATE_BLOCKED_SHOT_HOME\",\n",
    "    \"STATE_BLOCKED_SHOT_AWAY\",\n",
    "    \"game_seconds_remaining\",\n",
    "    \"WIN\",\n",
    "]\n",
    "\n",
    "train = train[keepers]\n",
    "test = test[keepers]\n",
    "\n",
    "model_dict = [('STATE_GOAL_HOME', 'WIN'), ('STATE_GOAL_AWAY', 'WIN')]\n",
    "model_dict.extend([('game_seconds_remaining', 'STATE_SHOT_HOME'), ('game_seconds_remaining', 'STATE_SHOT_AWAY')])\n",
    "model_dict.extend([('STATE_SHOT_HOME', 'STATE_GOAL_HOME'), ('STATE_SHOT_AWAY', 'STATE_GOAL_AWAY')])\n",
    "model_dict.extend([('STATE_BLOCKED_SHOT_HOME', 'STATE_GOAL_AWAY'), ('STATE_BLOCKED_SHOT_AWAY', 'STATE_GOAL_HOME')])\n",
    "model_dict.extend([('STATE_SHOT_HOME', 'STATE_BLOCKED_SHOT_AWAY'), ('STATE_SHOT_AWAY', 'STATE_BLOCKED_SHOT_HOME')])\n",
    "\n",
    "# Define the structure of the Bayesian network\n",
    "model = BayesianNetwork(model_dict)\n",
    "\n",
    "# Learn the parameters of the Bayesian network using Maximum Likelihood Estimation\n",
    "model.fit(train, estimator=MaximumLikelihoodEstimator)"
   ]
  },
  {
   "cell_type": "code",
   "execution_count": 158,
   "metadata": {},
   "outputs": [
    {
     "name": "stderr",
     "output_type": "stream",
     "text": [
      "  0%|          | 0/257 [00:00<?, ?it/s]"
     ]
    },
    {
     "name": "stderr",
     "output_type": "stream",
     "text": [
      "100%|██████████| 257/257 [00:02<00:00, 105.04it/s]\n"
     ]
    },
    {
     "data": {
      "image/png": "[encoded data removed]",
      "text/plain": [
       "<Figure size 640x480 with 1 Axes>"
      ]
     },
     "metadata": {},
     "output_type": "display_data"
    },
    {
     "name": "stdout",
     "output_type": "stream",
     "text": [
      "Final State\n",
      "Home Score: 4\n",
      "Away Score: 5\n"
     ]
    }
   ],
   "source": [
    "# pick a random game to train on from test\n",
    "game_id = np.random.choice(test.game_id.unique())\n",
    "\n",
    "game_to_test = test[test.game_id == game_id]\n",
    "prob_array = np.zeros((len(game_to_test), 2))\n",
    "\n",
    "# reset index \n",
    "game_to_test = game_to_test.reset_index(drop=True)\n",
    "time_remaining = []\n",
    "\n",
    "# loop through game to test\n",
    "for index, row in tqdm(game_to_test.iterrows(), total=len(game_to_test)):\n",
    "    # get the row\n",
    "    row = row.to_frame().T\n",
    "\n",
    "    # get the game state\n",
    "    game_state = row[keepers]\n",
    "\n",
    "    # get the game state\n",
    "    game_state = game_state.drop(columns=['game_id', 'WIN'])\n",
    "    time_remaining.append(row['game_seconds_remaining'])\n",
    "\n",
    "    inference = VariableElimination(model)\n",
    "\n",
    "    # Define the evidence\n",
    "    evidence = game_state.to_dict(orient='records')[0]\n",
    "\n",
    "    # Perform inference to compute posterior probabilities\n",
    "    posterior_probabilities = inference.query(variables=['WIN'], evidence=evidence)\n",
    "\n",
    "    # Extract probabilities of each outcome\n",
    "    home_team_win_probability = posterior_probabilities.values[1]\n",
    "\n",
    "    # add the win probability to the array\n",
    "    prob_array[index, :] = home_team_win_probability\n",
    "\n",
    "# plot the win probability\n",
    "plt.ylim(0, 1)\n",
    "plt.plot(time_remaining[::-1], prob_array[:, 1])\n",
    "plt.xlabel('Game Time')\n",
    "plt.ylabel('Win Probability')\n",
    "plt.title('Win Probability Over Time')\n",
    "plt.show()\n",
    "\n",
    "# print final state\n",
    "print('Final State')\n",
    "print('Home Score:', game_state['STATE_GOAL_HOME'].values[0])\n",
    "print('Away Score:', game_state['STATE_GOAL_AWAY'].values[0])"
   ]
  },
  {
   "cell_type": "code",
   "execution_count": 132,
   "metadata": {},
   "outputs": [],
   "source": [
    "good_game_ids = []"
   ]
  },
  {
   "cell_type": "code",
   "execution_count": 135,
   "metadata": {},
   "outputs": [],
   "source": [
    "good_game_ids.append(game_id)"
   ]
  },
  {
   "cell_type": "code",
   "execution_count": 108,
   "metadata": {},
   "outputs": [
    {
     "name": "stdout",
     "output_type": "stream",
     "text": [
      "Probability of Home Team Win: 0.46687054026503566\n",
      "Probability of Away Team Win: 0.5331294597349643\n"
     ]
    }
   ],
   "source": [
    "inference = VariableElimination(model)\n",
    "\n",
    "# Define the evidence\n",
    "# evidence = game_state.to_dict(orient='records')[0]\n",
    "evidence = {}\n",
    "evidence['STATE_GOAL_HOME'] = 4\n",
    "evidence['STATE_GOAL_AWAY'] = 4\n",
    "\n",
    "# Perform inference to compute posterior probabilities\n",
    "posterior_probabilities = inference.query(variables=['WIN'], evidence=evidence)\n",
    "\n",
    "# Extract probabilities of each outcome\n",
    "home_team_win_probability = posterior_probabilities.values[1]\n",
    "away_team_win_probability = posterior_probabilities.values[0]\n",
    "\n",
    "print(\"Probability of Home Team Win:\", home_team_win_probability)\n",
    "print(\"Probability of Away Team Win:\", away_team_win_probability)"
   ]
  }
 ],
 "metadata": {
  "kernelspec": {
   "display_name": "py311",
   "language": "python",
   "name": "python3"
  },
  "language_info": {
   "codemirror_mode": {
    "name": "ipython",
    "version": 3
   },
   "file_extension": ".py",
   "mimetype": "text/x-python",
   "name": "python",
   "nbconvert_exporter": "python",
   "pygments_lexer": "ipython3",
   "version": "3.11.5"
  }
 },
 "nbformat": 4,
 "nbformat_minor": 2
}
